{
 "cells": [
  {
   "cell_type": "code",
   "execution_count": 1,
   "metadata": {},
   "outputs": [],
   "source": [
    "import openpyxl\n",
    "from scipy import stats\n",
    "import pandas as pd\n",
    "import numpy as np "
   ]
  },
  {
   "cell_type": "code",
   "execution_count": 2,
   "metadata": {},
   "outputs": [],
   "source": [
    "#Academic Hours Tracking\n",
    "hours = int(input())\n",
    "category = input()\n",
    "from openpyxl import Workbook, load_workbook\n",
    "wb = load_workbook(r\"C:\\Users\\smitjr26\\OneDrive - VUMC\\PD\\tracking_1.0.xlsx\")\n",
    "from datetime import date\n",
    "today = date.today()\n",
    "ws = wb['Hours Tracking']\n",
    "ws.append(['Joshua Smith', today, hours, category])\n",
    "wb.save(r\"C:\\Users\\smitjr26\\OneDrive - VUMC\\PD\\tracking_1.0.xlsx\")"
   ]
  },
  {
   "cell_type": "code",
   "execution_count": null,
   "metadata": {},
   "outputs": [],
   "source": [
    "#Consult Numbers Tracking\n",
    "numpsychconsult = int(input())\n",
    "numbhteam = int(input())\n",
    "numbhteamwemanage = int(input())\n",
    "from openpyxl import Workbook, load_workbook\n",
    "wb = load_workbook(r\"C:\\Users\\smitjr26\\OneDrive - VUMC\\PD\\tracking_1.0.xlsx\")\n",
    "from datetime import date\n",
    "today = date.today()\n",
    "ws = wb['Consult Tracking']\n",
    "ws.append([today, numpsychconsult, numbhteam, numbhteamwemanage])\n",
    "wb.save(r\"C:\\Users\\smitjr26\\OneDrive - VUMC\\PD\\tracking_1.0.xlsx\")"
   ]
  },
  {
   "cell_type": "code",
   "execution_count": 2,
   "metadata": {},
   "outputs": [],
   "source": [
    "#X1 ECT RVU\n",
    "from openpyxl import Workbook, load_workbook\n",
    "wb = load_workbook(r\"C:\\Users\\smitjr26\\OneDrive - VUMC\\PD\\tracking_1.0.xlsx\")\n",
    "from datetime import date\n",
    "today = date.today()\n",
    "ws = wb['Neuromodulation']\n",
    "num_repeats = input()\n",
    "\n",
    "#run certain number of times\n",
    "for i in range(int(num_repeats)):\n",
    "    ws.append(['Joshua Smith', today, 90780, 2.5])\n",
    "    wb.save(r\"C:\\Users\\smitjr26\\OneDrive - VUMC\\PD\\tracking_1.0.xlsx\")"
   ]
  },
  {
   "cell_type": "code",
   "execution_count": 3,
   "metadata": {},
   "outputs": [],
   "source": [
    "#MEND 99215\n",
    "MRN = int(input())\n",
    "lastname = input()\n",
    "from openpyxl import Workbook, load_workbook\n",
    "wb = load_workbook(r\"C:\\Users\\smitjr26\\OneDrive - VUMC\\PD\\tracking_1.0.xlsx\")\n",
    "from datetime import date\n",
    "today = date.today()\n",
    "ws = wb['MEND Outpatient']\n",
    "ws.append(['Joshua Smith', today, 'Progress Note',99215, 2.8, MRN, lastname])\n",
    "wb.save(r\"C:\\Users\\smitjr26\\OneDrive - VUMC\\PD\\tracking_1.0.xlsx\")"
   ]
  },
  {
   "cell_type": "code",
   "execution_count": 11,
   "metadata": {},
   "outputs": [],
   "source": [
    "#MEND 99214\n",
    "MRN = int(input())\n",
    "lastname = input()\n",
    "from openpyxl import Workbook, load_workbook\n",
    "wb = load_workbook(r\"C:\\Users\\smitjr26\\OneDrive - VUMC\\PD\\tracking_1.0.xlsx\")\n",
    "from datetime import date\n",
    "today = date.today()\n",
    "ws = wb['MEND Outpatient']\n",
    "ws.append(['Joshua Smith', today, 'Progress Note', 99214, 1.92, MRN, lastname])\n",
    "wb.save(r\"C:\\Users\\smitjr26\\OneDrive - VUMC\\PD\\tracking_1.0.xlsx\")"
   ]
  },
  {
   "cell_type": "code",
   "execution_count": null,
   "metadata": {},
   "outputs": [],
   "source": [
    "#MEND 99215+90833\n",
    "MRN = int(input())\n",
    "lastname = input()\n",
    "from openpyxl import Workbook, load_workbook\n",
    "wb = load_workbook(r\"C:\\Users\\smitjr26\\OneDrive - VUMC\\PD\\tracking_1.0.xlsx\")\n",
    "from datetime import date\n",
    "today = date.today()\n",
    "ws = wb['MEND Outpatient']\n",
    "ws.append(['Joshua Smith', today, 'Progress Note', \"99215+90833\", 4.7, MRN, lastname])\n",
    "wb.save(r\"C:\\Users\\smitjr26\\OneDrive - VUMC\\PD\\tracking_1.0.xlsx\")"
   ]
  },
  {
   "cell_type": "code",
   "execution_count": 2,
   "metadata": {},
   "outputs": [],
   "source": [
    "#MEND Intake\n",
    "MRN = int(input())\n",
    "lastname = input()\n",
    "from openpyxl import Workbook, load_workbook\n",
    "wb = load_workbook(r\"C:\\Users\\smitjr26\\OneDrive - VUMC\\PD\\tracking_1.0.xlsx\")\n",
    "from datetime import date\n",
    "today = date.today()\n",
    "ws = wb['MEND Outpatient']\n",
    "ws.append(['Joshua Smith', today, 'Intake', 90792, 4.16, MRN, lastname])\n",
    "wb.save(r\"C:\\Users\\smitjr26\\OneDrive - VUMC\\PD\\tracking_1.0.xlsx\")"
   ]
  },
  {
   "cell_type": "code",
   "execution_count": 1,
   "metadata": {},
   "outputs": [],
   "source": [
    "#MEND Consult\n",
    "MRN = int(input())\n",
    "lastname = input()\n",
    "referringdivision = input()\n",
    "from openpyxl import Workbook, load_workbook\n",
    "wb = load_workbook(r\"C:\\Users\\smitjr26\\OneDrive - VUMC\\PD\\tracking_1.0.xlsx\")\n",
    "from datetime import date\n",
    "today = date.today()\n",
    "ws = wb['MEND Outpatient']\n",
    "ws.append(['Joshua Smith', today, 'Consult', 90792, 4.16, MRN, lastname, referringdivision])\n",
    "wb.save(r\"C:\\Users\\smitjr26\\OneDrive - VUMC\\PD\\tracking_1.0.xlsx\")"
   ]
  },
  {
   "cell_type": "code",
   "execution_count": 3,
   "metadata": {},
   "outputs": [],
   "source": [
    "#CAPOC 99214\n",
    "from openpyxl import Workbook, load_workbook\n",
    "wb = load_workbook(r\"C:\\Users\\smitjr26\\OneDrive - VUMC\\PD\\tracking_1.0.xlsx\")\n",
    "from datetime import date\n",
    "today = date.today()\n",
    "ws = wb['CAPOC Outpatient']\n",
    "num_repeats = input()\n",
    "\n",
    "#run certain number of times\n",
    "for i in range(int(num_repeats)):\n",
    "    ws.append(['Joshua Smith', today, 'Progress Note', 99214, 1.92])\n",
    "    wb.save(r\"C:\\Users\\smitjr26\\OneDrive - VUMC\\PD\\tracking_1.0.xlsx\")"
   ]
  },
  {
   "cell_type": "code",
   "execution_count": 4,
   "metadata": {},
   "outputs": [],
   "source": [
    "#CAPOC 99215\n",
    "from openpyxl import Workbook, load_workbook\n",
    "wb = load_workbook(r\"C:\\Users\\smitjr26\\OneDrive - VUMC\\PD\\tracking_1.0.xlsx\")\n",
    "from datetime import date\n",
    "today = date.today()\n",
    "ws = wb['CAPOC Outpatient']\n",
    "num_repeats = input()\n",
    "\n",
    "#run certain number of times\n",
    "for i in range(int(num_repeats)):\n",
    "    ws.append(['Joshua Smith', today, 'Progress Note', 99215, 2.8])\n",
    "    wb.save(r\"C:\\Users\\smitjr26\\OneDrive - VUMC\\PD\\tracking_1.0.xlsx\")"
   ]
  },
  {
   "cell_type": "code",
   "execution_count": 10,
   "metadata": {},
   "outputs": [],
   "source": [
    "#CAPOC 99213\n",
    "from openpyxl import Workbook, load_workbook\n",
    "wb = load_workbook(r\"C:\\Users\\smitjr26\\OneDrive - VUMC\\PD\\tracking_1.0.xlsx\")\n",
    "from datetime import date\n",
    "today = date.today()\n",
    "ws = wb['CAPOC Outpatient']\n",
    "num_repeats = input()\n",
    "\n",
    "#run certain number of times\n",
    "for i in range(int(num_repeats)):\n",
    "    ws.append(['Joshua Smith', today, 'Progress Note', 99213, 1.3])\n",
    "    wb.save(r\"C:\\Users\\smitjr26\\OneDrive - VUMC\\PD\\tracking_1.0.xlsx\")"
   ]
  },
  {
   "cell_type": "code",
   "execution_count": 14,
   "metadata": {},
   "outputs": [
    {
     "data": {
      "text/plain": [
       "26"
      ]
     },
     "execution_count": 14,
     "metadata": {},
     "output_type": "execute_result"
    }
   ],
   "source": []
  }
 ],
 "metadata": {
  "kernelspec": {
   "display_name": "Python 3.9.13 ('base')",
   "language": "python",
   "name": "python3"
  },
  "language_info": {
   "codemirror_mode": {
    "name": "ipython",
    "version": 3
   },
   "file_extension": ".py",
   "mimetype": "text/x-python",
   "name": "python",
   "nbconvert_exporter": "python",
   "pygments_lexer": "ipython3",
   "version": "3.9.13"
  },
  "orig_nbformat": 4,
  "vscode": {
   "interpreter": {
    "hash": "37030d73f8d872c4536cd9f97ed08e5097f5d122807ba5b2762a5395e6b14efd"
   }
  }
 },
 "nbformat": 4,
 "nbformat_minor": 2
}
